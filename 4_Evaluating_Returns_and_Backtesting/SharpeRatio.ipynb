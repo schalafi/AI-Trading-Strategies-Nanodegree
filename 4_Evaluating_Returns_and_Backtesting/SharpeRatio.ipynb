{
 "cells": [
  {
   "cell_type": "markdown",
   "metadata": {},
   "source": []
  },
  {
   "cell_type": "code",
   "execution_count": null,
   "metadata": {},
   "outputs": [],
   "source": [
    "# Sharpe Ratio of S&P500 Futures \n",
    "\n"
   ]
  },
  {
   "cell_type": "markdown",
   "metadata": {},
   "source": [
    "\n",
    "\n",
    "$$SR = (r_p -r_f)/\\sigma_p$$"
   ]
  },
  {
   "cell_type": "code",
   "execution_count": null,
   "metadata": {},
   "outputs": [],
   "source": [
    "!pip install yfinance --upgrade --no-cache-dir"
   ]
  },
  {
   "cell_type": "code",
   "execution_count": 1,
   "metadata": {},
   "outputs": [],
   "source": [
    "import yfinance as yf \n",
    "import numpy as np "
   ]
  },
  {
   "cell_type": "code",
   "execution_count": null,
   "metadata": {},
   "outputs": [
    {
     "name": "stderr",
     "output_type": "stream",
     "text": [
      "[*********************100%***********************]  1 of 1 completed\n"
     ]
    }
   ],
   "source": [
    "data = yf.download(\"ES=F\")\n",
    "prices = data[\"Close\"]\n",
    "prices"
   ]
  },
  {
   "cell_type": "code",
   "execution_count": null,
   "metadata": {},
   "outputs": [
    {
     "data": {
      "text/html": [
       "<div>\n",
       "<style scoped>\n",
       "    .dataframe tbody tr th:only-of-type {\n",
       "        vertical-align: middle;\n",
       "    }\n",
       "\n",
       "    .dataframe tbody tr th {\n",
       "        vertical-align: top;\n",
       "    }\n",
       "\n",
       "    .dataframe thead th {\n",
       "        text-align: right;\n",
       "    }\n",
       "</style>\n",
       "<table border=\"1\" class=\"dataframe\">\n",
       "  <thead>\n",
       "    <tr style=\"text-align: right;\">\n",
       "      <th>Ticker</th>\n",
       "      <th>ES=F</th>\n",
       "    </tr>\n",
       "    <tr>\n",
       "      <th>Date</th>\n",
       "      <th></th>\n",
       "    </tr>\n",
       "  </thead>\n",
       "  <tbody>\n",
       "    <tr>\n",
       "      <th>2000-09-18</th>\n",
       "      <td>1467.50</td>\n",
       "    </tr>\n",
       "    <tr>\n",
       "      <th>2000-09-19</th>\n",
       "      <td>1478.50</td>\n",
       "    </tr>\n",
       "    <tr>\n",
       "      <th>2000-09-20</th>\n",
       "      <td>1469.50</td>\n",
       "    </tr>\n",
       "    <tr>\n",
       "      <th>2000-09-21</th>\n",
       "      <td>1469.50</td>\n",
       "    </tr>\n",
       "    <tr>\n",
       "      <th>2000-09-22</th>\n",
       "      <td>1468.50</td>\n",
       "    </tr>\n",
       "    <tr>\n",
       "      <th>...</th>\n",
       "      <td>...</td>\n",
       "    </tr>\n",
       "    <tr>\n",
       "      <th>2025-02-18</th>\n",
       "      <td>6146.75</td>\n",
       "    </tr>\n",
       "    <tr>\n",
       "      <th>2025-02-19</th>\n",
       "      <td>6163.00</td>\n",
       "    </tr>\n",
       "    <tr>\n",
       "      <th>2025-02-20</th>\n",
       "      <td>6136.50</td>\n",
       "    </tr>\n",
       "    <tr>\n",
       "      <th>2025-02-21</th>\n",
       "      <td>6029.00</td>\n",
       "    </tr>\n",
       "    <tr>\n",
       "      <th>2025-02-23</th>\n",
       "      <td>6046.75</td>\n",
       "    </tr>\n",
       "  </tbody>\n",
       "</table>\n",
       "<p>6171 rows × 1 columns</p>\n",
       "</div>"
      ],
      "text/plain": [
       "Ticker         ES=F\n",
       "Date               \n",
       "2000-09-18  1467.50\n",
       "2000-09-19  1478.50\n",
       "2000-09-20  1469.50\n",
       "2000-09-21  1469.50\n",
       "2000-09-22  1468.50\n",
       "...             ...\n",
       "2025-02-18  6146.75\n",
       "2025-02-19  6163.00\n",
       "2025-02-20  6136.50\n",
       "2025-02-21  6029.00\n",
       "2025-02-23  6046.75\n",
       "\n",
       "[6171 rows x 1 columns]"
      ]
     },
     "execution_count": 6,
     "metadata": {},
     "output_type": "execute_result"
    }
   ],
   "source": []
  },
  {
   "cell_type": "code",
   "execution_count": 7,
   "metadata": {},
   "outputs": [
    {
     "data": {
      "text/html": [
       "<div>\n",
       "<style scoped>\n",
       "    .dataframe tbody tr th:only-of-type {\n",
       "        vertical-align: middle;\n",
       "    }\n",
       "\n",
       "    .dataframe tbody tr th {\n",
       "        vertical-align: top;\n",
       "    }\n",
       "\n",
       "    .dataframe thead th {\n",
       "        text-align: right;\n",
       "    }\n",
       "</style>\n",
       "<table border=\"1\" class=\"dataframe\">\n",
       "  <thead>\n",
       "    <tr style=\"text-align: right;\">\n",
       "      <th>Ticker</th>\n",
       "      <th>ES=F</th>\n",
       "    </tr>\n",
       "    <tr>\n",
       "      <th>Date</th>\n",
       "      <th></th>\n",
       "    </tr>\n",
       "  </thead>\n",
       "  <tbody>\n",
       "    <tr>\n",
       "      <th>2000-09-18</th>\n",
       "      <td>NaN</td>\n",
       "    </tr>\n",
       "    <tr>\n",
       "      <th>2000-09-19</th>\n",
       "      <td>0.007496</td>\n",
       "    </tr>\n",
       "    <tr>\n",
       "      <th>2000-09-20</th>\n",
       "      <td>-0.006087</td>\n",
       "    </tr>\n",
       "    <tr>\n",
       "      <th>2000-09-21</th>\n",
       "      <td>0.000000</td>\n",
       "    </tr>\n",
       "    <tr>\n",
       "      <th>2000-09-22</th>\n",
       "      <td>-0.000681</td>\n",
       "    </tr>\n",
       "    <tr>\n",
       "      <th>...</th>\n",
       "      <td>...</td>\n",
       "    </tr>\n",
       "    <tr>\n",
       "      <th>2025-02-18</th>\n",
       "      <td>0.000122</td>\n",
       "    </tr>\n",
       "    <tr>\n",
       "      <th>2025-02-19</th>\n",
       "      <td>0.002644</td>\n",
       "    </tr>\n",
       "    <tr>\n",
       "      <th>2025-02-20</th>\n",
       "      <td>-0.004300</td>\n",
       "    </tr>\n",
       "    <tr>\n",
       "      <th>2025-02-21</th>\n",
       "      <td>-0.017518</td>\n",
       "    </tr>\n",
       "    <tr>\n",
       "      <th>2025-02-23</th>\n",
       "      <td>0.002944</td>\n",
       "    </tr>\n",
       "  </tbody>\n",
       "</table>\n",
       "<p>6171 rows × 1 columns</p>\n",
       "</div>"
      ],
      "text/plain": [
       "Ticker          ES=F\n",
       "Date                \n",
       "2000-09-18       NaN\n",
       "2000-09-19  0.007496\n",
       "2000-09-20 -0.006087\n",
       "2000-09-21  0.000000\n",
       "2000-09-22 -0.000681\n",
       "...              ...\n",
       "2025-02-18  0.000122\n",
       "2025-02-19  0.002644\n",
       "2025-02-20 -0.004300\n",
       "2025-02-21 -0.017518\n",
       "2025-02-23  0.002944\n",
       "\n",
       "[6171 rows x 1 columns]"
      ]
     },
     "execution_count": 7,
     "metadata": {},
     "output_type": "execute_result"
    }
   ],
   "source": [
    "returns = prices.pct_change()\n",
    "returns "
   ]
  },
  {
   "cell_type": "code",
   "execution_count": 14,
   "metadata": {},
   "outputs": [
    {
     "data": {
      "text/html": [
       "<div>\n",
       "<style scoped>\n",
       "    .dataframe tbody tr th:only-of-type {\n",
       "        vertical-align: middle;\n",
       "    }\n",
       "\n",
       "    .dataframe tbody tr th {\n",
       "        vertical-align: top;\n",
       "    }\n",
       "\n",
       "    .dataframe thead th {\n",
       "        text-align: right;\n",
       "    }\n",
       "</style>\n",
       "<table border=\"1\" class=\"dataframe\">\n",
       "  <thead>\n",
       "    <tr style=\"text-align: right;\">\n",
       "      <th>Ticker</th>\n",
       "      <th>ES=F</th>\n",
       "    </tr>\n",
       "    <tr>\n",
       "      <th>Date</th>\n",
       "      <th></th>\n",
       "    </tr>\n",
       "  </thead>\n",
       "  <tbody>\n",
       "    <tr>\n",
       "      <th>2000-09-19</th>\n",
       "      <td>0.007496</td>\n",
       "    </tr>\n",
       "    <tr>\n",
       "      <th>2000-09-20</th>\n",
       "      <td>-0.006087</td>\n",
       "    </tr>\n",
       "    <tr>\n",
       "      <th>2000-09-21</th>\n",
       "      <td>0.000000</td>\n",
       "    </tr>\n",
       "    <tr>\n",
       "      <th>2000-09-22</th>\n",
       "      <td>-0.000681</td>\n",
       "    </tr>\n",
       "    <tr>\n",
       "      <th>2000-09-25</th>\n",
       "      <td>-0.005107</td>\n",
       "    </tr>\n",
       "    <tr>\n",
       "      <th>...</th>\n",
       "      <td>...</td>\n",
       "    </tr>\n",
       "    <tr>\n",
       "      <th>2025-02-18</th>\n",
       "      <td>0.000122</td>\n",
       "    </tr>\n",
       "    <tr>\n",
       "      <th>2025-02-19</th>\n",
       "      <td>0.002644</td>\n",
       "    </tr>\n",
       "    <tr>\n",
       "      <th>2025-02-20</th>\n",
       "      <td>-0.004300</td>\n",
       "    </tr>\n",
       "    <tr>\n",
       "      <th>2025-02-21</th>\n",
       "      <td>-0.017518</td>\n",
       "    </tr>\n",
       "    <tr>\n",
       "      <th>2025-02-23</th>\n",
       "      <td>0.002944</td>\n",
       "    </tr>\n",
       "  </tbody>\n",
       "</table>\n",
       "<p>6170 rows × 1 columns</p>\n",
       "</div>"
      ],
      "text/plain": [
       "Ticker          ES=F\n",
       "Date                \n",
       "2000-09-19  0.007496\n",
       "2000-09-20 -0.006087\n",
       "2000-09-21  0.000000\n",
       "2000-09-22 -0.000681\n",
       "2000-09-25 -0.005107\n",
       "...              ...\n",
       "2025-02-18  0.000122\n",
       "2025-02-19  0.002644\n",
       "2025-02-20 -0.004300\n",
       "2025-02-21 -0.017518\n",
       "2025-02-23  0.002944\n",
       "\n",
       "[6170 rows x 1 columns]"
      ]
     },
     "execution_count": 14,
     "metadata": {},
     "output_type": "execute_result"
    }
   ],
   "source": [
    "returns= returns.dropna()\n",
    "returns "
   ]
  },
  {
   "cell_type": "code",
   "execution_count": 15,
   "metadata": {},
   "outputs": [
    {
     "data": {
      "text/plain": [
       "6171"
      ]
     },
     "execution_count": 15,
     "metadata": {},
     "output_type": "execute_result"
    }
   ],
   "source": [
    "#number of days per year\n",
    "periods_per_year = 252\n",
    "# number of days\n",
    "n_periods = prices.shape[0]\n",
    "n_periods"
   ]
  },
  {
   "cell_type": "code",
   "execution_count": 16,
   "metadata": {},
   "outputs": [
    {
     "name": "stderr",
     "output_type": "stream",
     "text": [
      "/home/codespace/.local/lib/python3.12/site-packages/numpy/_core/_methods.py:56: RuntimeWarning: overflow encountered in reduce\n",
      "  return umr_prod(a, axis, dtype, out, keepdims, initial, where)\n"
     ]
    },
    {
     "data": {
      "text/plain": [
       "Ticker\n",
       "ES=F    inf\n",
       "dtype: float64"
      ]
     },
     "execution_count": 16,
     "metadata": {},
     "output_type": "execute_result"
    }
   ],
   "source": [
    "annualized_returns = (1+ prices).prod()**(periods_per_year/n_periods) -1 \n",
    "annualized_returns"
   ]
  },
  {
   "cell_type": "markdown",
   "metadata": {},
   "source": []
  },
  {
   "cell_type": "markdown",
   "metadata": {},
   "source": [
    "# We encounter Overflow Error \n",
    "/home/codespace/.local/lib/python3.12/site-packages/numpy/_core/_methods.py:56: RuntimeWarning: overflow encountered in reduce\n",
    "  return umr_prod(a, axis, dtype, out, keepdims, initial, where)"
   ]
  },
  {
   "cell_type": "code",
   "execution_count": null,
   "metadata": {},
   "outputs": [],
   "source": [
    "# STABLE VERSION: Use log returns to avoid overflow\n",
    "log_returns = np.log1p(returns)  # Equivalent to ln(1 + r_t)\n",
    "cumulative_log_return = log_returns.sum()\n",
    "\n",
    "# Convert back to arithmetic return\n",
    "cumulative_return = np.exp(cumulative_log_return) - 1\n",
    "\n",
    "# Annualize (252 trading days/year)\n",
    "total_days = len(returns)\n",
    "annualized_return = (1 + cumulative_return) ** (252 / total_days) - 1\n",
    "\n",
    "print(f\"Annualized Return: {annualized_return:.2%}\")"
   ]
  },
  {
   "cell_type": "markdown",
   "metadata": {},
   "source": [
    "# Compute Stable Version of the Compounded Return \n"
   ]
  },
  {
   "cell_type": "code",
   "execution_count": 49,
   "metadata": {},
   "outputs": [
    {
     "name": "stdout",
     "output_type": "stream",
     "text": [
      "Annualized Return:   5.95%\n"
     ]
    }
   ],
   "source": [
    "#natural log is np.log\n",
    "log_returns = np.log(1+  returns )\n",
    "compounded_log_return = log_returns.sum()\n",
    "# convert to returns \n",
    "compounded_return = np.exp(compounded_log_return)  -1 \n",
    "# annualize (252 trading days/year)\n",
    "#number of days per year\n",
    "periods_per_year = 252\n",
    "# number of days\n",
    "n_periods = prices.shape[0]\n",
    "\n",
    "#format to 0+return instead of 1+return\n",
    "annualized_return = (1+ compounded_return )**(periods_per_year/n_periods) -1 \n",
    "annualized_return = annualized_return.values[0]\n",
    "print(f\"Annualized Return:  {annualized_return*100: .2f}%\")\n",
    "\n",
    "\n"
   ]
  },
  {
   "cell_type": "code",
   "execution_count": 36,
   "metadata": {},
   "outputs": [
    {
     "data": {
      "text/plain": [
       "np.float64(0.19404296651229747)"
      ]
     },
     "execution_count": 36,
     "metadata": {},
     "output_type": "execute_result"
    }
   ],
   "source": [
    "annualized_volatility = (returns.std()*(252)**(1/2)).values[0]\n",
    "annualized_volatility"
   ]
  },
  {
   "cell_type": "markdown",
   "metadata": {},
   "source": [
    "## Arithmethic Returns (Not suitable for evaluating several periods)"
   ]
  },
  {
   "cell_type": "code",
   "execution_count": 33,
   "metadata": {},
   "outputs": [
    {
     "name": "stdout",
     "output_type": "stream",
     "text": [
      "Annualized Arithmetic Return:   7.67%\n"
     ]
    }
   ],
   "source": [
    "annualized_returns_arith = (returns.mean()*252).values[0]\n",
    "print(f\"Annualized Arithmetic Return:  {annualized_returns_arith*100: .2f}%\")\n"
   ]
  },
  {
   "cell_type": "markdown",
   "metadata": {},
   "source": [
    "## Getting the Risk Free Rate"
   ]
  },
  {
   "cell_type": "code",
   "execution_count": 37,
   "metadata": {},
   "outputs": [
    {
     "data": {
      "text/plain": [
       "Timestamp('2000-09-18 00:00:00')"
      ]
     },
     "execution_count": 37,
     "metadata": {},
     "output_type": "execute_result"
    }
   ],
   "source": [
    "sp500_start_date = prices.index[0]\n",
    "sp500_start_date"
   ]
  },
  {
   "cell_type": "code",
   "execution_count": 38,
   "metadata": {},
   "outputs": [
    {
     "data": {
      "text/plain": [
       "Timestamp('2025-02-23 00:00:00')"
      ]
     },
     "execution_count": 38,
     "metadata": {},
     "output_type": "execute_result"
    }
   ],
   "source": [
    "sp500_end_date = prices.index[-1]\n",
    "sp500_end_date"
   ]
  },
  {
   "cell_type": "code",
   "execution_count": null,
   "metadata": {},
   "outputs": [],
   "source": []
  },
  {
   "cell_type": "code",
   "execution_count": 50,
   "metadata": {},
   "outputs": [
    {
     "name": "stderr",
     "output_type": "stream",
     "text": [
      "[*********************100%***********************]  1 of 1 completed\n"
     ]
    },
    {
     "data": {
      "text/html": [
       "<div>\n",
       "<style scoped>\n",
       "    .dataframe tbody tr th:only-of-type {\n",
       "        vertical-align: middle;\n",
       "    }\n",
       "\n",
       "    .dataframe tbody tr th {\n",
       "        vertical-align: top;\n",
       "    }\n",
       "\n",
       "    .dataframe thead th {\n",
       "        text-align: right;\n",
       "    }\n",
       "</style>\n",
       "<table border=\"1\" class=\"dataframe\">\n",
       "  <thead>\n",
       "    <tr style=\"text-align: right;\">\n",
       "      <th>Ticker</th>\n",
       "      <th>^IRX</th>\n",
       "    </tr>\n",
       "    <tr>\n",
       "      <th>Date</th>\n",
       "      <th></th>\n",
       "    </tr>\n",
       "  </thead>\n",
       "  <tbody>\n",
       "    <tr>\n",
       "      <th>2000-09-18</th>\n",
       "      <td>5.950</td>\n",
       "    </tr>\n",
       "    <tr>\n",
       "      <th>2000-09-19</th>\n",
       "      <td>5.970</td>\n",
       "    </tr>\n",
       "    <tr>\n",
       "      <th>2000-09-20</th>\n",
       "      <td>5.970</td>\n",
       "    </tr>\n",
       "    <tr>\n",
       "      <th>2000-09-21</th>\n",
       "      <td>5.960</td>\n",
       "    </tr>\n",
       "    <tr>\n",
       "      <th>2000-09-22</th>\n",
       "      <td>5.970</td>\n",
       "    </tr>\n",
       "    <tr>\n",
       "      <th>...</th>\n",
       "      <td>...</td>\n",
       "    </tr>\n",
       "    <tr>\n",
       "      <th>2025-02-14</th>\n",
       "      <td>4.213</td>\n",
       "    </tr>\n",
       "    <tr>\n",
       "      <th>2025-02-18</th>\n",
       "      <td>4.213</td>\n",
       "    </tr>\n",
       "    <tr>\n",
       "      <th>2025-02-19</th>\n",
       "      <td>4.218</td>\n",
       "    </tr>\n",
       "    <tr>\n",
       "      <th>2025-02-20</th>\n",
       "      <td>4.205</td>\n",
       "    </tr>\n",
       "    <tr>\n",
       "      <th>2025-02-21</th>\n",
       "      <td>4.197</td>\n",
       "    </tr>\n",
       "  </tbody>\n",
       "</table>\n",
       "<p>6138 rows × 1 columns</p>\n",
       "</div>"
      ],
      "text/plain": [
       "Ticker       ^IRX\n",
       "Date             \n",
       "2000-09-18  5.950\n",
       "2000-09-19  5.970\n",
       "2000-09-20  5.970\n",
       "2000-09-21  5.960\n",
       "2000-09-22  5.970\n",
       "...           ...\n",
       "2025-02-14  4.213\n",
       "2025-02-18  4.213\n",
       "2025-02-19  4.218\n",
       "2025-02-20  4.205\n",
       "2025-02-21  4.197\n",
       "\n",
       "[6138 rows x 1 columns]"
      ]
     },
     "execution_count": 50,
     "metadata": {},
     "output_type": "execute_result"
    }
   ],
   "source": [
    "risk_free_rate = yf.download(\"^IRX\",\n",
    "                             start = sp500_start_date )[\"Close\"]\n",
    "risk_free_rate"
   ]
  },
  {
   "cell_type": "code",
   "execution_count": 45,
   "metadata": {},
   "outputs": [
    {
     "data": {
      "text/plain": [
       "np.float64(0.016844398813558432)"
      ]
     },
     "execution_count": 45,
     "metadata": {},
     "output_type": "execute_result"
    }
   ],
   "source": [
    "avg_risk_free_rate = risk_free_rate.mean().values[0]\n",
    "# express in decimals \n",
    "avg_risk_free_rate /= 100\n",
    "avg_risk_free_rate"
   ]
  },
  {
   "cell_type": "markdown",
   "metadata": {},
   "source": [
    "## Sharpe Ratio"
   ]
  },
  {
   "cell_type": "code",
   "execution_count": 51,
   "metadata": {},
   "outputs": [
    {
     "name": "stdout",
     "output_type": "stream",
     "text": [
      "Sharpe Ratio: 0.2200\n"
     ]
    }
   ],
   "source": [
    "sharpe_ratio = (annualized_return-avg_risk_free_rate) /annualized_volatility\n",
    "print(f\"Sharpe Ratio: {sharpe_ratio:.4f}\")"
   ]
  },
  {
   "cell_type": "markdown",
   "metadata": {},
   "source": []
  }
 ],
 "metadata": {
  "kernelspec": {
   "display_name": "Python 3",
   "language": "python",
   "name": "python3"
  },
  "language_info": {
   "codemirror_mode": {
    "name": "ipython",
    "version": 3
   },
   "file_extension": ".py",
   "mimetype": "text/x-python",
   "name": "python",
   "nbconvert_exporter": "python",
   "pygments_lexer": "ipython3",
   "version": "3.12.1"
  }
 },
 "nbformat": 4,
 "nbformat_minor": 2
}
