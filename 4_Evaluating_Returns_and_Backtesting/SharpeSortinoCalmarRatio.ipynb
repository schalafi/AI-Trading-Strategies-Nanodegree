{
 "cells": [
  {
   "cell_type": "code",
   "execution_count": 1,
   "metadata": {},
   "outputs": [],
   "source": [
    "import numpy as np\n",
    "import yfinance as yf"
   ]
  },
  {
   "cell_type": "code",
   "execution_count": 2,
   "metadata": {},
   "outputs": [
    {
     "name": "stdout",
     "output_type": "stream",
     "text": [
      "YF.download() has changed argument auto_adjust default to True\n"
     ]
    },
    {
     "name": "stderr",
     "output_type": "stream",
     "text": [
      "[*********************100%***********************]  1 of 1 completed\n"
     ]
    },
    {
     "data": {
      "text/html": [
       "<div>\n",
       "<style scoped>\n",
       "    .dataframe tbody tr th:only-of-type {\n",
       "        vertical-align: middle;\n",
       "    }\n",
       "\n",
       "    .dataframe tbody tr th {\n",
       "        vertical-align: top;\n",
       "    }\n",
       "\n",
       "    .dataframe thead th {\n",
       "        text-align: right;\n",
       "    }\n",
       "</style>\n",
       "<table border=\"1\" class=\"dataframe\">\n",
       "  <thead>\n",
       "    <tr style=\"text-align: right;\">\n",
       "      <th>Ticker</th>\n",
       "      <th>ES=F</th>\n",
       "    </tr>\n",
       "    <tr>\n",
       "      <th>Date</th>\n",
       "      <th></th>\n",
       "    </tr>\n",
       "  </thead>\n",
       "  <tbody>\n",
       "    <tr>\n",
       "      <th>2000-09-18</th>\n",
       "      <td>1467.50</td>\n",
       "    </tr>\n",
       "    <tr>\n",
       "      <th>2000-09-19</th>\n",
       "      <td>1478.50</td>\n",
       "    </tr>\n",
       "    <tr>\n",
       "      <th>2000-09-20</th>\n",
       "      <td>1469.50</td>\n",
       "    </tr>\n",
       "    <tr>\n",
       "      <th>2000-09-21</th>\n",
       "      <td>1469.50</td>\n",
       "    </tr>\n",
       "    <tr>\n",
       "      <th>2000-09-22</th>\n",
       "      <td>1468.50</td>\n",
       "    </tr>\n",
       "    <tr>\n",
       "      <th>...</th>\n",
       "      <td>...</td>\n",
       "    </tr>\n",
       "    <tr>\n",
       "      <th>2025-02-18</th>\n",
       "      <td>6146.75</td>\n",
       "    </tr>\n",
       "    <tr>\n",
       "      <th>2025-02-19</th>\n",
       "      <td>6163.00</td>\n",
       "    </tr>\n",
       "    <tr>\n",
       "      <th>2025-02-20</th>\n",
       "      <td>6136.50</td>\n",
       "    </tr>\n",
       "    <tr>\n",
       "      <th>2025-02-21</th>\n",
       "      <td>6029.00</td>\n",
       "    </tr>\n",
       "    <tr>\n",
       "      <th>2025-02-24</th>\n",
       "      <td>6010.75</td>\n",
       "    </tr>\n",
       "  </tbody>\n",
       "</table>\n",
       "<p>6171 rows × 1 columns</p>\n",
       "</div>"
      ],
      "text/plain": [
       "Ticker         ES=F\n",
       "Date               \n",
       "2000-09-18  1467.50\n",
       "2000-09-19  1478.50\n",
       "2000-09-20  1469.50\n",
       "2000-09-21  1469.50\n",
       "2000-09-22  1468.50\n",
       "...             ...\n",
       "2025-02-18  6146.75\n",
       "2025-02-19  6163.00\n",
       "2025-02-20  6136.50\n",
       "2025-02-21  6029.00\n",
       "2025-02-24  6010.75\n",
       "\n",
       "[6171 rows x 1 columns]"
      ]
     },
     "execution_count": 2,
     "metadata": {},
     "output_type": "execute_result"
    }
   ],
   "source": [
    "# Download S&P 500 front month futures data\n",
    "prices = yf.download('ES=F')['Close']\n",
    "prices "
   ]
  },
  {
   "cell_type": "markdown",
   "metadata": {},
   "source": [
    "## Logarithmic returns \n",
    "\n",
    "$$ r_{t,t+1} = (P_{t+1}- P_{t})/P_{t} $$ \n",
    "\n",
    "or \n",
    "$$ \n",
    "r_{t,t+1} = P_{t+1}/P_{t} -1\n",
    "$$ \n",
    "\n",
    "## Log returns \n",
    "$$\n",
    "log(r_{t,t+1} ) = log(P_{t+1}) - log(P_{t}) - log(1)\n",
    "$$\n",
    "\n",
    "$$\n",
    "= log(P_{t+1}) - log(P_{t}) \n",
    "$$"
   ]
  },
  {
   "cell_type": "code",
   "execution_count": 5,
   "metadata": {},
   "outputs": [
    {
     "data": {
      "text/html": [
       "<div>\n",
       "<style scoped>\n",
       "    .dataframe tbody tr th:only-of-type {\n",
       "        vertical-align: middle;\n",
       "    }\n",
       "\n",
       "    .dataframe tbody tr th {\n",
       "        vertical-align: top;\n",
       "    }\n",
       "\n",
       "    .dataframe thead th {\n",
       "        text-align: right;\n",
       "    }\n",
       "</style>\n",
       "<table border=\"1\" class=\"dataframe\">\n",
       "  <thead>\n",
       "    <tr style=\"text-align: right;\">\n",
       "      <th>Ticker</th>\n",
       "      <th>ES=F</th>\n",
       "    </tr>\n",
       "    <tr>\n",
       "      <th>Date</th>\n",
       "      <th></th>\n",
       "    </tr>\n",
       "  </thead>\n",
       "  <tbody>\n",
       "    <tr>\n",
       "      <th>2000-09-19</th>\n",
       "      <td>0.007468</td>\n",
       "    </tr>\n",
       "    <tr>\n",
       "      <th>2000-09-20</th>\n",
       "      <td>-0.006106</td>\n",
       "    </tr>\n",
       "    <tr>\n",
       "      <th>2000-09-21</th>\n",
       "      <td>0.000000</td>\n",
       "    </tr>\n",
       "    <tr>\n",
       "      <th>2000-09-22</th>\n",
       "      <td>-0.000681</td>\n",
       "    </tr>\n",
       "    <tr>\n",
       "      <th>2000-09-25</th>\n",
       "      <td>-0.005120</td>\n",
       "    </tr>\n",
       "    <tr>\n",
       "      <th>...</th>\n",
       "      <td>...</td>\n",
       "    </tr>\n",
       "    <tr>\n",
       "      <th>2025-02-18</th>\n",
       "      <td>0.000122</td>\n",
       "    </tr>\n",
       "    <tr>\n",
       "      <th>2025-02-19</th>\n",
       "      <td>0.002640</td>\n",
       "    </tr>\n",
       "    <tr>\n",
       "      <th>2025-02-20</th>\n",
       "      <td>-0.004309</td>\n",
       "    </tr>\n",
       "    <tr>\n",
       "      <th>2025-02-21</th>\n",
       "      <td>-0.017673</td>\n",
       "    </tr>\n",
       "    <tr>\n",
       "      <th>2025-02-24</th>\n",
       "      <td>-0.003032</td>\n",
       "    </tr>\n",
       "  </tbody>\n",
       "</table>\n",
       "<p>6170 rows × 1 columns</p>\n",
       "</div>"
      ],
      "text/plain": [
       "Ticker          ES=F\n",
       "Date                \n",
       "2000-09-19  0.007468\n",
       "2000-09-20 -0.006106\n",
       "2000-09-21  0.000000\n",
       "2000-09-22 -0.000681\n",
       "2000-09-25 -0.005120\n",
       "...              ...\n",
       "2025-02-18  0.000122\n",
       "2025-02-19  0.002640\n",
       "2025-02-20 -0.004309\n",
       "2025-02-21 -0.017673\n",
       "2025-02-24 -0.003032\n",
       "\n",
       "[6170 rows x 1 columns]"
      ]
     },
     "execution_count": 5,
     "metadata": {},
     "output_type": "execute_result"
    }
   ],
   "source": [
    "# Calculate daily logarithmic returns\n",
    "log_returns = np.log(prices).diff()\n",
    "log_returns.dropna(inplace = True )\n",
    "log_returns"
   ]
  },
  {
   "cell_type": "code",
   "execution_count": null,
   "metadata": {},
   "outputs": [
    {
     "name": "stdout",
     "output_type": "stream",
     "text": [
      "Annualized return: 0.0593\n",
      "Annualized volatility: 0.1940\n"
     ]
    }
   ],
   "source": [
    "# Annualize returns and volatility\n",
    "# 1 year has 252 trading days\n",
    "periods_per_year = 252\n",
    "# count the number of days available in our data\n",
    "n_periods = log_returns.shape[0]\n",
    "# already in 1+return format\n",
    "\n",
    "annualized_return = np.exp(log_returns.sum()) **(periods_per_year/n_periods)  -1 \n",
    "annualized_return = annualized_return.values[0]\n",
    "annualized_vol = (np.exp(log_returns)-1) .std() * np.sqrt(252)\n",
    "annualized_vol = annualized_vol.values[0]\n",
    "\n",
    "print(f\"Annualized return: {annualized_return:.4f}\")\n",
    "print(f\"Annualized volatility: {annualized_vol:.4f}\")"
   ]
  },
  {
   "cell_type": "code",
   "execution_count": 9,
   "metadata": {},
   "outputs": [
    {
     "data": {
      "text/html": [
       "<div>\n",
       "<style scoped>\n",
       "    .dataframe tbody tr th:only-of-type {\n",
       "        vertical-align: middle;\n",
       "    }\n",
       "\n",
       "    .dataframe tbody tr th {\n",
       "        vertical-align: top;\n",
       "    }\n",
       "\n",
       "    .dataframe thead th {\n",
       "        text-align: right;\n",
       "    }\n",
       "</style>\n",
       "<table border=\"1\" class=\"dataframe\">\n",
       "  <thead>\n",
       "    <tr style=\"text-align: right;\">\n",
       "      <th>Ticker</th>\n",
       "      <th>ES=F</th>\n",
       "    </tr>\n",
       "    <tr>\n",
       "      <th>Date</th>\n",
       "      <th></th>\n",
       "    </tr>\n",
       "  </thead>\n",
       "  <tbody>\n",
       "    <tr>\n",
       "      <th>2000-09-19</th>\n",
       "      <td>1.007496</td>\n",
       "    </tr>\n",
       "    <tr>\n",
       "      <th>2000-09-20</th>\n",
       "      <td>0.993913</td>\n",
       "    </tr>\n",
       "    <tr>\n",
       "      <th>2000-09-21</th>\n",
       "      <td>1.000000</td>\n",
       "    </tr>\n",
       "    <tr>\n",
       "      <th>2000-09-22</th>\n",
       "      <td>0.999319</td>\n",
       "    </tr>\n",
       "    <tr>\n",
       "      <th>2000-09-25</th>\n",
       "      <td>0.994893</td>\n",
       "    </tr>\n",
       "    <tr>\n",
       "      <th>...</th>\n",
       "      <td>...</td>\n",
       "    </tr>\n",
       "    <tr>\n",
       "      <th>2025-02-18</th>\n",
       "      <td>1.000122</td>\n",
       "    </tr>\n",
       "    <tr>\n",
       "      <th>2025-02-19</th>\n",
       "      <td>1.002644</td>\n",
       "    </tr>\n",
       "    <tr>\n",
       "      <th>2025-02-20</th>\n",
       "      <td>0.995700</td>\n",
       "    </tr>\n",
       "    <tr>\n",
       "      <th>2025-02-21</th>\n",
       "      <td>0.982482</td>\n",
       "    </tr>\n",
       "    <tr>\n",
       "      <th>2025-02-24</th>\n",
       "      <td>0.996973</td>\n",
       "    </tr>\n",
       "  </tbody>\n",
       "</table>\n",
       "<p>6170 rows × 1 columns</p>\n",
       "</div>"
      ],
      "text/plain": [
       "Ticker          ES=F\n",
       "Date                \n",
       "2000-09-19  1.007496\n",
       "2000-09-20  0.993913\n",
       "2000-09-21  1.000000\n",
       "2000-09-22  0.999319\n",
       "2000-09-25  0.994893\n",
       "...              ...\n",
       "2025-02-18  1.000122\n",
       "2025-02-19  1.002644\n",
       "2025-02-20  0.995700\n",
       "2025-02-21  0.982482\n",
       "2025-02-24  0.996973\n",
       "\n",
       "[6170 rows x 1 columns]"
      ]
     },
     "execution_count": 9,
     "metadata": {},
     "output_type": "execute_result"
    }
   ],
   "source": [
    "np.exp(log_returns)"
   ]
  },
  {
   "cell_type": "code",
   "execution_count": null,
   "metadata": {},
   "outputs": [],
   "source": []
  },
  {
   "cell_type": "markdown",
   "metadata": {},
   "source": [
    "## Get the Risk Free Rate "
   ]
  },
  {
   "cell_type": "code",
   "execution_count": 16,
   "metadata": {},
   "outputs": [
    {
     "name": "stdout",
     "output_type": "stream",
     "text": [
      "sp500_start_date:  2000-09-18\n"
     ]
    },
    {
     "name": "stderr",
     "output_type": "stream",
     "text": [
      "[*********************100%***********************]  1 of 1 completed\n"
     ]
    }
   ],
   "source": [
    "# Download the 3-month Treasury bill rate as the risk-free rate\n",
    "sp500_start_date = str(prices.index[0])[:10]\n",
    "print(\"sp500_start_date: \", sp500_start_date)\n",
    "risk_free_rates = yf.download('^IRX', start=sp500_start_date)['Close']\n",
    "avg_risk_free_rate = risk_free_rates.mean() / 100\n",
    "avg_risk_free_rate = avg_risk_free_rate.values[0]"
   ]
  },
  {
   "cell_type": "code",
   "execution_count": 17,
   "metadata": {},
   "outputs": [
    {
     "data": {
      "text/plain": [
       "np.float64(0.016848480195177366)"
      ]
     },
     "execution_count": 17,
     "metadata": {},
     "output_type": "execute_result"
    }
   ],
   "source": [
    "avg_risk_free_rate"
   ]
  },
  {
   "cell_type": "code",
   "execution_count": 20,
   "metadata": {},
   "outputs": [],
   "source": [
    "# Calculate the Sharpe Ratio\n",
    "sharpe_ratio = (annualized_return - avg_risk_free_rate) / annualized_vol\n",
    "# Calculate the Sortino Ratio\n",
    "downside_vol = log_returns[log_returns<0].std() * np.sqrt(252)\n",
    "downside_vol = downside_vol.values[0]\n",
    "sortino_ratio = (annualized_return - avg_risk_free_rate) / downside_vol\n",
    "\n",
    "# Calculate the Calmar Ratio\n",
    "# create wealth index\n",
    "cum_returns = np.exp(log_returns.cumsum())\n",
    "drawdowns = (cum_returns.cummax() - cum_returns) / cum_returns.cummax()\n",
    "max_drawdown = np.max(drawdowns)\n",
    "calmar_ratio = annualized_return / max_drawdown"
   ]
  },
  {
   "cell_type": "code",
   "execution_count": 21,
   "metadata": {},
   "outputs": [
    {
     "name": "stdout",
     "output_type": "stream",
     "text": [
      "\n",
      "annualized_return: 5.9%\n",
      "avg_risk_free_rate: 1.7%\n",
      "annualized_volatility: 19.4%\n",
      "downside_volatility: 15.9%\n",
      "max_drawdown: 57.1%\n",
      "\n",
      "sharpe_ratio: 0.22\n",
      "sortino_ratio: 0.27\n",
      "calmar_ratio: 0.1\n",
      "\n"
     ]
    }
   ],
   "source": [
    "print()\n",
    "print(f\"annualized_return: {np.round(annualized_return * 100, 1)}%\")\n",
    "print(f\"avg_risk_free_rate: {np.round(avg_risk_free_rate * 100, 1)}%\")\n",
    "print(f\"annualized_volatility: {np.round(annualized_vol * 100, 1)}%\")\n",
    "print(f\"downside_volatility: {np.round(downside_vol * 100, 1)}%\")\n",
    "print(f\"max_drawdown: {np.round(max_drawdown * 100, 1)}%\")\n",
    "print()\n",
    "print(f\"sharpe_ratio: {np.round(sharpe_ratio, 2)}\")\n",
    "print(f\"sortino_ratio: {np.round(sortino_ratio, 2)}\")\n",
    "print(f\"calmar_ratio: {np.round(calmar_ratio, 2)}\")\n",
    "print()"
   ]
  },
  {
   "cell_type": "code",
   "execution_count": null,
   "metadata": {},
   "outputs": [],
   "source": []
  }
 ],
 "metadata": {
  "kernelspec": {
   "display_name": "Python 3",
   "language": "python",
   "name": "python3"
  },
  "language_info": {
   "codemirror_mode": {
    "name": "ipython",
    "version": 3
   },
   "file_extension": ".py",
   "mimetype": "text/x-python",
   "name": "python",
   "nbconvert_exporter": "python",
   "pygments_lexer": "ipython3",
   "version": "3.12.1"
  }
 },
 "nbformat": 4,
 "nbformat_minor": 2
}
